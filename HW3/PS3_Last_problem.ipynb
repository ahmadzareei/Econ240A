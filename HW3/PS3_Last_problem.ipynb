{
 "cells": [
  {
   "cell_type": "markdown",
   "metadata": {},
   "source": [
    "# Econ 240A, Part II, Fall 2017\n",
    "## Problem Set 3, Question 3\n"
   ]
  },
  {
   "cell_type": "code",
   "execution_count": 4,
   "metadata": {
    "scrolled": false
   },
   "outputs": [],
   "source": [
    "# importing libraries\n",
    "\n",
    "from __future__ import division\n",
    "import numpy as np\n",
    "import numpy.linalg as la\n",
    "import pandas as pd\n",
    "import statsmodels.api as sm\n",
    "\n",
    "\n",
    "#importing data\n",
    "data = pd.read_table('./Brazil_1996PNAD.out');\n",
    "\n",
    "#taking out the data between ages 20 and 60\n",
    "data = data[(data.AgeInDays <=60) & (data.AgeInDays >=20)];\n",
    "\n",
    "\n",
    "# Drop observations with 0 earnings\n",
    "data = data[data['MONTHLY_EARNINGS'] != 0];\n",
    "\n",
    "# variables needed\n",
    "data['LogEarn'] = np.log(data['MONTHLY_EARNINGS']);\n",
    "data['AgeInDays2'] = data['AgeInDays']**2;\n",
    "\n",
    "\n",
    "# Define OLS function\n",
    "# Inputs: X = Pandas DataFrame\n",
    "#         Y = Pandas DataFrame\n",
    "# Output: output = Pandas DataFrame containing coef, se, and 95% CI\n",
    "#         V  = covariance matrix\n",
    "#         U  = residuals\n",
    "def OLS(Y,X):\n",
    "    \n",
    "    # Obtain the list and number of covariates\n",
    "    cols = X.columns;\n",
    "    K = len(cols);\n",
    "\n",
    "    # Convert to Numpy Arrays and construct inverse of (X^T X) and X^T Y\n",
    "    X = np.array(X).reshape(-1,K);\n",
    "    Y = np.array(Y);\n",
    "    XT = X.T;\n",
    "    G = la.inv(np.dot(XT,X));\n",
    "    XY = np.dot(XT,Y);\n",
    "    \n",
    "    # Compute OLS coefficients\n",
    "    coef = np.dot(G,XY);\n",
    "    \n",
    "    # Compute squre of residuals then create a diagonal matrix\n",
    "    # Finally compute the sum of X_i U_i^2 X_i^T\n",
    "    U = Y-np.dot(X,coef);\n",
    "    XU = X*U;\n",
    "    O = np.dot(XU.T,XU);\n",
    "    \n",
    "    # Compute covariance matrix\n",
    "    V = np.dot(np.dot(G,O),G);\n",
    "\n",
    "    # Compute Standard Error\n",
    "    SE = np.sqrt(np.diag(V)).reshape(-1,1);\n",
    "        \n",
    "    # Compute 95% CI and display 4 decimal points\n",
    "    lbnd = coef-1.96*SE;\n",
    "    ubnd = coef+1.96*SE;\n",
    "    CI = ['[%.5f,%.5f]' %(lbnd[i],ubnd[i]) for i in range(K)];\n",
    "    CI =np.array(CI);\n",
    "    \n",
    "    # Put results together into a single Pandas DataFrame\n",
    "    output = np.concatenate((coef,SE),axis=1);\n",
    "    output = pd.DataFrame(output,index=cols);\n",
    "    output.columns = ['Coef','SE'];\n",
    "    output['95% CI'] = CI;\n",
    "        \n",
    "    V = pd.DataFrame(V,index=cols);\n",
    "    V.columns = cols;\n",
    "        \n",
    "    return [output,V]\n",
    "\n",
    "\n",
    "\n",
    "\n",
    "\n"
   ]
  },
  {
   "cell_type": "markdown",
   "metadata": {},
   "source": [
    "## Part (a)"
   ]
  },
  {
   "cell_type": "code",
   "execution_count": 5,
   "metadata": {},
   "outputs": [
    {
     "name": "stdout",
     "output_type": "stream",
     "text": [
      "\n",
      "\n",
      "Short Regression\n",
      "                Coef        SE               95% CI\n",
      "const       3.044634  0.041665    [2.96297,3.12630]\n",
      "YRSSCH      0.145612  0.000822    [0.14400,0.14722]\n",
      "AgeInDays   0.089302  0.002340    [0.08472,0.09389]\n",
      "AgeInDays2 -0.000903  0.000031  [-0.00096,-0.00084]\n",
      "\n",
      "\n",
      "Covariance Matrix\n",
      "                   const        YRSSCH     AgeInDays    AgeInDays2\n",
      "const       1.736004e-03  8.284987e-07 -9.551517e-05  1.218483e-06\n",
      "YRSSCH      8.284987e-07  6.758185e-07 -2.939232e-07  4.225726e-09\n",
      "AgeInDays  -9.551517e-05 -2.939232e-07  5.477544e-06 -7.138706e-08\n",
      "AgeInDays2  1.218483e-06  4.225726e-09 -7.138706e-08  9.481571e-10\n",
      "\n",
      "\n",
      "                            OLS Regression Results                            \n",
      "==============================================================================\n",
      "Dep. Variable:                LogEarn   R-squared:                       0.420\n",
      "Model:                            OLS   Adj. R-squared:                  0.420\n",
      "Method:                 Least Squares   F-statistic:                 1.246e+04\n",
      "Date:                Thu, 16 Nov 2017   Prob (F-statistic):               0.00\n",
      "Time:                        16:41:44   Log-Likelihood:                -64169.\n",
      "No. Observations:               55551   AIC:                         1.283e+05\n",
      "Df Residuals:                   55547   BIC:                         1.284e+05\n",
      "Df Model:                           3                                         \n",
      "Covariance Type:                  HC0                                         \n",
      "==============================================================================\n",
      "                 coef    std err          z      P>|z|      [0.025      0.975]\n",
      "------------------------------------------------------------------------------\n",
      "const          3.0446      0.042     73.073      0.000       2.963       3.126\n",
      "YRSSCH         0.1456      0.001    177.126      0.000       0.144       0.147\n",
      "AgeInDays      0.0893      0.002     38.157      0.000       0.085       0.094\n",
      "AgeInDays2    -0.0009   3.08e-05    -29.328      0.000      -0.001      -0.001\n",
      "==============================================================================\n",
      "Omnibus:                     1093.941   Durbin-Watson:                   1.593\n",
      "Prob(Omnibus):                  0.000   Jarque-Bera (JB):             2208.935\n",
      "Skew:                           0.094   Prob(JB):                         0.00\n",
      "Kurtosis:                       3.959   Cond. No.                     2.23e+04\n",
      "==============================================================================\n",
      "\n",
      "Warnings:\n",
      "[1] Standard Errors are heteroscedasticity robust (HC0)\n",
      "[2] The condition number is large, 2.23e+04. This might indicate that there are\n",
      "strong multicollinearity or other numerical problems.\n"
     ]
    }
   ],
   "source": [
    "# Part (a)Regression\n",
    "    \n",
    "# Define covariates and the dependent variable\n",
    "Y = data[['LogEarn']];\n",
    "\n",
    "X_list1 = ['YRSSCH','AgeInDays','AgeInDays2'];\n",
    "X1 = data[X_list1];\n",
    "X1 = sm.add_constant(X1);\n",
    "\n",
    "# OLS fit\n",
    "result_short = OLS(Y,X1);\n",
    "\n",
    "# OLS fit using statsmodels.OLS\n",
    "OLS_result = sm.OLS(Y,X1).fit(cov_type='HC0');\n",
    "\n",
    "print '\\n'\n",
    "print 'Short Regression'\n",
    "print result_short[0]\n",
    "print '\\n'\n",
    "print 'Covariance Matrix'\n",
    "print result_short[1]\n",
    "print '\\n'\n",
    "print OLS_result.summary()\n",
    "\n"
   ]
  },
  {
   "cell_type": "markdown",
   "metadata": {},
   "source": [
    "## Part (b)"
   ]
  },
  {
   "cell_type": "code",
   "execution_count": 7,
   "metadata": {},
   "outputs": [
    {
     "name": "stdout",
     "output_type": "stream",
     "text": [
      "\n",
      "\n",
      "Part (b): Long Regression\n",
      "                               Coef        SE               95% CI\n",
      "const                      3.021391  0.041864    [2.93934,3.10344]\n",
      "YRSSCH                     0.136991  0.000937    [0.13515,0.13883]\n",
      "AgeInDays                  0.091668  0.002364    [0.08704,0.09630]\n",
      "AgeInDays2                -0.000927  0.000031  [-0.00099,-0.00087]\n",
      "Father_NoSchool           -0.052852  0.009228  [-0.07094,-0.03477]\n",
      "Father_Complete1stPrimary  0.080203  0.011191    [0.05827,0.10214]\n",
      "Father_Complete2ndPrimary -0.045733  0.019222  [-0.08341,-0.00806]\n",
      "Father_CompleteSecondary  -0.000254  0.021430   [-0.04226,0.04175]\n",
      "Mother_NoSchool           -0.017216  0.009081   [-0.03501,0.00058]\n",
      "Mother_Complete1stPrimary  0.117530  0.011506    [0.09498,0.14008]\n",
      "Mother_Complete2ndPrimary  0.117912  0.017989    [0.08265,0.15317]\n",
      "Mother_CompleteSecondary   0.212757  0.020444    [0.17269,0.25283]\n"
     ]
    }
   ],
   "source": [
    "# Part (b) -- Long Regression\n",
    "\n",
    "\n",
    "# Define covariates\n",
    "X_list2 = X_list1 + ['Father_NoSchool','Father_Complete1stPrimary',\\\n",
    "'Father_Complete2ndPrimary','Father_CompleteSecondary','Mother_NoSchool',\\\n",
    "'Mother_Complete1stPrimary','Mother_Complete2ndPrimary',\\\n",
    "'Mother_CompleteSecondary'];\n",
    "X2 = data[X_list2];\n",
    "X2 = sm.add_constant(X2);\n",
    "\n",
    "# Compute OLS fit\n",
    "result_long = OLS(Y,X2);\n",
    "\n",
    "print '\\n'\n",
    "print 'Part (b): Long Regression'\n",
    "print result_long[0]"
   ]
  },
  {
   "cell_type": "code",
   "execution_count": 9,
   "metadata": {},
   "outputs": [
    {
     "name": "stdout",
     "output_type": "stream",
     "text": [
      "\n",
      "\n",
      "The residual regression coefficient is 0.136991\n"
     ]
    }
   ],
   "source": [
    "# Part (c) Residual Regression\n",
    "\n",
    "# Define the dependent variable and covariates for auxliary regression\n",
    "yrssch = data[['YRSSCH']];\n",
    "\n",
    "X_list3 = X_list2[:];\n",
    "X_list3.remove('YRSSCH');\n",
    "X3 = data[X_list3];\n",
    "X3 = sm.add_constant(X3);\n",
    "\n",
    "# OLS fit of auxiliary regression\n",
    "coef_aux = la.lstsq(X3,yrssch)[0];\n",
    "\n",
    "# residual of auxiliary regression\n",
    "resid_aux = yrssch - np.dot(X3,coef_aux);\n",
    "\n",
    "# OLS fit of residual regression\n",
    "coef_resid = la.lstsq(resid_aux,Y)[0];\n",
    "\n",
    "print '\\n'\n",
    "print 'The residual regression coefficient is %f' %coef_resid"
   ]
  },
  {
   "cell_type": "markdown",
   "metadata": {},
   "source": [
    "The residual regresssion coefficient found here, is same as part (b) which is  0.136991 "
   ]
  },
  {
   "cell_type": "markdown",
   "metadata": {},
   "source": [
    "## Part (d)"
   ]
  },
  {
   "cell_type": "code",
   "execution_count": 11,
   "metadata": {},
   "outputs": [
    {
     "name": "stdout",
     "output_type": "stream",
     "text": [
      "\n",
      "\n",
      "Part (d): Bayesian Bootstrapping\n",
      "          Part (a)     Part (b)\n",
      "count  1000.000000  1000.000000\n",
      "mean      0.145565     0.136939\n",
      "std       0.000846     0.000962\n",
      "min       0.142789     0.133900\n",
      "25%       0.144971     0.136275\n",
      "50%       0.145574     0.136918\n",
      "75%       0.146116     0.137600\n",
      "max       0.148717     0.140046\n"
     ]
    }
   ],
   "source": [
    "# Part (d) Bayesian Bootstrap\n",
    "\n",
    "# Setting up parameters\n",
    "N = len(X1); # Length of the weight array\n",
    "NS = 1000; # Number of simulations\n",
    "\n",
    "bb1 = []\n",
    "bb2 = []\n",
    "\n",
    "for j in range(NS):\n",
    "    \n",
    "    # Draw N-array of Gamma(1,1) random variables\n",
    "    W = np.random.gamma(1,1,N);\n",
    "    \n",
    "    # Compute weighted OLS fit\n",
    "    result1 = sm.WLS(Y,X1,weights=W).fit();\n",
    "    result2 = sm.WLS(Y,X2,weights=W).fit();\n",
    "    \n",
    "    # Store result from each simulation\n",
    "    bb1 = bb1 + [result1.params[1]];\n",
    "    bb2 = bb2 + [result2.params[1]];\n",
    "\n",
    "# Combine into a Pandas DataFrame\n",
    "bb = pd.DataFrame({'Part (a)':bb1, 'Part (b)':bb2});\n",
    "\n",
    "print '\\n'\n",
    "print 'Part (d): Bayesian Bootstrapping'\n",
    "print bb.describe()\n"
   ]
  },
  {
   "cell_type": "markdown",
   "metadata": {},
   "source": [
    "We see that the posteriori distribution is close to asymptotic sampling distributions in (a) an (b). "
   ]
  },
  {
   "cell_type": "code",
   "execution_count": null,
   "metadata": {
    "collapsed": true
   },
   "outputs": [],
   "source": []
  }
 ],
 "metadata": {
  "kernelspec": {
   "display_name": "Python 2",
   "language": "python",
   "name": "python2"
  },
  "language_info": {
   "codemirror_mode": {
    "name": "ipython",
    "version": 2
   },
   "file_extension": ".py",
   "mimetype": "text/x-python",
   "name": "python",
   "nbconvert_exporter": "python",
   "pygments_lexer": "ipython2",
   "version": "2.7.13"
  }
 },
 "nbformat": 4,
 "nbformat_minor": 2
}
